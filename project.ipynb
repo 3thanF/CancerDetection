{
 "cells": [
  {
   "cell_type": "markdown",
   "metadata": {},
   "source": [
    "## Setup and Library Imports\n",
    "\n",
    "In this section, we import necessary Python libraries that will be used throughout the notebook for data manipulation (`pandas`), data visualization (`matplotlib.pyplot`), and machine learning tasks (`sklearn`). This setup is crucial for supporting the subsequent data analysis and model application.\n"
   ]
  },
  {
   "cell_type": "code",
   "execution_count": null,
   "metadata": {},
   "outputs": [],
   "source": [
    "import pandas as pd\n",
    "import matplotlib.pyplot as plt\n",
    "from sklearn.model_selection import train_test_split\n",
    "from sklearn.linear_model import LogisticRegression\n",
    "from sklearn.preprocessing import LabelEncoder\n",
    "from sklearn.metrics import accuracy_score, confusion_matrix, roc_auc_score\n",
    "\n",
    "file_path = './data.csv'\n",
    "data = pd.read_csv(file_path)\n",
    "\n",
    "label_encoder = LabelEncoder()\n",
    "data['diagnosis'] = label_encoder.fit_transform(data['diagnosis'])\n",
    "\n",
    "X = data[['radius_mean', 'texture_mean']]\n",
    "y = data['diagnosis']\n",
    "\n",
    "X_train, X_test, y_train, y_test = train_test_split(X, y, test_size=0.2, random_state=42)\n",
    "\n",
    "model = LogisticRegression()\n",
    "model.fit(X_train, y_train)\n",
    "\n",
    "y_pred = model.predict(X_test)\n",
    "\n",
    "accuracy = accuracy_score(y_test, y_pred)\n",
    "conf_matrix = confusion_matrix(y_test, y_pred)\n",
    "roc_auc = roc_auc_score(y_test, model.predict_proba(X_test)[:, 1])\n",
    "\n",
    "def predict_tumor_probability(radius_mean, texture_mean):\n",
    "    values = pd.DataFrame([[radius_mean, texture_mean]], columns=['radius_mean', 'texture_mean'])   \n",
    "    probabilities = model.predict_proba(values)   \n",
    "    \n",
    "    return f'Probability that the tumor is BENIGN: {probabilities[0][0]*100:.3f}%\\nProbability that the tumor is MALIGNANT: {probabilities[0][1]*100:.3f}%'\n"
   ]
  },
  {
   "cell_type": "markdown",
   "metadata": {},
   "source": [
    "## Data Loading and Initial Exploration\n",
    "\n",
    "Here, we load the dataset using `pandas` and perform initial data exploration and visualization. This step is essential for understanding the data's structure, identifying patterns, and spotting any potential anomalies. Visualizations help in making informed decisions about the data preprocessing and analysis techniques to be applied.\n"
   ]
  },
  {
   "cell_type": "code",
   "execution_count": null,
   "metadata": {},
   "outputs": [],
   "source": [
    "data = pd.read_csv(file_path)\n",
    "plt.figure(figsize=(12, 6))\n",
    "\n",
    "plt.subplot(1, 2, 1)  \n",
    "plt.hist(data[data['diagnosis'] == 'M']['radius_mean'], bins=20, alpha=0.5, label='Malignant')\n",
    "plt.hist(data[data['diagnosis'] == 'B']['radius_mean'], bins=20, alpha=0.5, label='Benign')\n",
    "plt.legend()\n",
    "plt.title('Distribution of Mean Radius by Type of Diagnosis')\n",
    "plt.xlabel('Mean Radius')\n",
    "plt.ylabel('Frequency')\n",
    "\n",
    "plt.subplot(1, 2, 2)  \n",
    "plt.hist(data[data['diagnosis'] == 'M']['texture_mean'], bins=20, alpha=0.5, label='Malignant')\n",
    "plt.hist(data[data['diagnosis'] == 'B']['texture_mean'], bins=20, alpha=0.5, label='Benign')\n",
    "plt.legend()\n",
    "plt.title('Distribution of Mean Texture by Type of Diagnosis')\n",
    "plt.xlabel('Mean Texture')\n",
    "\n",
    "plt.tight_layout()\n",
    "\n",
    "plt.show()\n"
   ]
  },
  {
   "cell_type": "markdown",
   "metadata": {},
   "source": [
    "## Model Application and Prediction\n",
    "\n",
    "After exploring and understanding the dataset, we apply a machine learning model to predict specific outcomes. This section includes the application of a predictive model, `predict_tumor_probability`, to estimate the probability of a tumor being benign or malignant based on certain features."
   ]
  },
  {
   "cell_type": "code",
   "execution_count": null,
   "metadata": {},
   "outputs": [],
   "source": [
    "print(predict_tumor_probability(2.0, 8.0))\n",
    "print('-------------------------------------')\n",
    "\n",
    "# Displaying the model's overall accuracy in percentage\n",
    "print(f\"The model's accuracy is: {accuracy*100:.2f}%\")\n",
    "print('-------------------------------------')\n",
    "\n",
    "# Presenting the model's confusion matrix, which shows the model's performance in terms of true positives, false positives, true negatives, and false negatives.\n",
    "print(\"Model's Confusion Matrix:\")\n",
    "print(conf_matrix)  \n",
    "print(\"This matrix helps in understanding the model's performance in classifying cancer correctly.\")\n",
    "print('-------------------------------------')\n",
    "\n",
    "# Showing the model's AUC ROC score, which measures the ability of the model to distinguish between classes.\n",
    "print(f\"Model's AUC ROC: {roc_auc:.2f}\")\n",
    "print(\"A higher AUC ROC score indicates better model performance in distinguishing between patients with and without cancer.\")\n"
   ]
  },
  {
   "cell_type": "markdown",
   "metadata": {},
   "source": [
    "## Conclusion\n",
    "\n",
    "This notebook has taken you through the process of data exploration, visualization, and application of a machine learning model to predict specific outcomes. Through our analysis, we have uncovered insights into the dataset's characteristics and utilized a predictive model to estimate the likelihood of certain outcomes based on the data.\n"
   ]
  }
 ],
 "metadata": {
  "kernelspec": {
   "display_name": "Python 3",
   "language": "python",
   "name": "python3"
  },
  "language_info": {
   "codemirror_mode": {
    "name": "ipython",
    "version": 3
   },
   "file_extension": ".py",
   "mimetype": "text/x-python",
   "name": "python",
   "nbconvert_exporter": "python",
   "pygments_lexer": "ipython3",
   "version": "3.12.1"
  }
 },
 "nbformat": 4,
 "nbformat_minor": 2
}
