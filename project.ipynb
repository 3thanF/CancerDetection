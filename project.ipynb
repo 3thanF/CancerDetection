{
 "cells": [
  {
   "cell_type": "code",
   "execution_count": null,
   "metadata": {},
   "outputs": [],
   "source": [
    "import pandas as pd\n",
    "import matplotlib.pyplot as plt\n",
    "import numpy as np\n",
    "from sklearn.model_selection import train_test_split\n",
    "from sklearn.linear_model import LogisticRegression\n",
    "from sklearn.preprocessing import LabelEncoder\n",
    "from sklearn.metrics import accuracy_score, confusion_matrix, roc_auc_score\n",
    "\n",
    "file_path = './data.csv'\n",
    "data = pd.read_csv(file_path)\n",
    "\n",
    "label_encoder = LabelEncoder()\n",
    "data['diagnosis'] = label_encoder.fit_transform(data['diagnosis'])\n",
    "\n",
    "X = data[['radius_mean', 'texture_mean']]\n",
    "y = data['diagnosis']\n",
    "\n",
    "X_train, X_test, y_train, y_test = train_test_split(X, y, test_size=0.2, random_state=42)\n",
    "\n",
    "model = LogisticRegression()\n",
    "model.fit(X_train, y_train)\n",
    "\n",
    "y_pred = model.predict(X_test)\n",
    "\n",
    "accuracy = accuracy_score(y_test, y_pred)\n",
    "conf_matrix = confusion_matrix(y_test, y_pred)\n",
    "roc_auc = roc_auc_score(y_test, model.predict_proba(X_test)[:, 1])\n",
    "\n",
    "def predecir_probabilidad_tumor(radius_mean, texture_mean):\n",
    "    valores = pd.DataFrame([[radius_mean, texture_mean]], columns=['radius_mean', 'texture_mean'])   \n",
    "    probabilidades = model.predict_proba(valores)   \n",
    "    \n",
    "    return f'Probabilidad de que el tumor sea BENIGNO: {probabilidades[0][0]*100:.3f}%\\nProbabilidades de que el tumor sea MALIGNO: {probabilidades[0][1]*100:.3f}%'\n"
   ]
  },
  {
   "cell_type": "code",
   "execution_count": null,
   "metadata": {},
   "outputs": [],
   "source": [
    "data = pd.read_csv(file_path)\n",
    "plt.figure(figsize=(12, 6))\n",
    "\n",
    "plt.subplot(1, 2, 1)  \n",
    "plt.hist(data[data['diagnosis'] == 'M']['radius_mean'], bins=20, alpha=0.5, label='Maligno')\n",
    "plt.hist(data[data['diagnosis'] == 'B']['radius_mean'], bins=20, alpha=0.5, label='Benigno')\n",
    "plt.legend()\n",
    "plt.title('Distribución del Radio Medio por Tipo de Diagnóstico')\n",
    "plt.xlabel('Radio Medio')\n",
    "plt.ylabel('Frecuencia')\n",
    "\n",
    "plt.subplot(1, 2, 2)  \n",
    "plt.hist(data[data['diagnosis'] == 'M']['texture_mean'], bins=20, alpha=0.5, label='Maligno')\n",
    "plt.hist(data[data['diagnosis'] == 'B']['texture_mean'], bins=20, alpha=0.5, label='Benigno')\n",
    "plt.legend()\n",
    "plt.title('Distribución de la Textura Media por Tipo de Diagnóstico')\n",
    "plt.xlabel('Textura Media')\n",
    "\n",
    "plt.tight_layout()\n",
    "\n",
    "plt.show()\n"
   ]
  },
  {
   "cell_type": "code",
   "execution_count": null,
   "metadata": {},
   "outputs": [],
   "source": [
    "print(predecir_probabilidad_tumor(11.5,16.1))"
   ]
  }
 ],
 "metadata": {
  "kernelspec": {
   "display_name": "Python 3",
   "language": "python",
   "name": "python3"
  },
  "language_info": {
   "codemirror_mode": {
    "name": "ipython",
    "version": 3
   },
   "file_extension": ".py",
   "mimetype": "text/x-python",
   "name": "python",
   "nbconvert_exporter": "python",
   "pygments_lexer": "ipython3",
   "version": "3.12.1"
  }
 },
 "nbformat": 4,
 "nbformat_minor": 2
}
